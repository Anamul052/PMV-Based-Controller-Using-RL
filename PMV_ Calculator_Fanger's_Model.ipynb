{
 "cells": [
  {
   "cell_type": "markdown",
   "id": "fe6f2dbe",
   "metadata": {},
   "source": [
    "## Importing Necessary Libraries"
   ]
  },
  {
   "cell_type": "code",
   "execution_count": null,
   "id": "46f49952",
   "metadata": {},
   "outputs": [],
   "source": [
    "import math, numpy as np, matplotlib.pyplot as plt\n",
    "from mpl_toolkits.mplot3d import Axes3D  # noqa"
   ]
  },
  {
   "cell_type": "markdown",
   "id": "ffc2f8cc",
   "metadata": {},
   "source": [
    "## PMV Calculator: Fanger's Model"
   ]
  },
  {
   "cell_type": "code",
   "execution_count": null,
   "id": "49520363",
   "metadata": {},
   "outputs": [],
   "source": [
    "# ---------- PMV (ISO 7730 / ASHRAE 55) ----------\n",
    "def _svp_pa(t):  # saturation vapor pressure (Pa)\n",
    "    return 610.5 * math.exp(17.2694 * t / (237.29 + t))\n",
    "\n",
    "def pmv_iso(ta, tr, v, rh, met=1.2, clo=0.68):\n",
    "    pa = (rh/100.0)*_svp_pa(ta)/1000.0; icl=0.155*clo; m=met*58.15; mw=m\n",
    "    fcl = 1.0 if icl<=0 else (1.0+1.29*icl if icl<=0.078 else 1.05+0.645*icl)\n",
    "    tcl = ta + (35.5-ta)/(3.5*icl+0.1) if icl>0 else ta\n",
    "    hcf = 12.1*math.sqrt(max(v,1e-8))\n",
    "    for _ in range(150):\n",
    "        hr = 4*5.67e-8*((tcl+273.15+tr+273.15)/2)**3\n",
    "        hc = max(hcf, 2.38*abs(tcl-ta)**0.25)\n",
    "        tnew=((35.7-0.028*mw)+icl*fcl*(hr*tr+hc*ta))/(1+icl*fcl*(hr+hc))\n",
    "        if abs(tnew-tcl)<1e-6: break\n",
    "        tcl=tnew\n",
    "    r=3.96e-8*fcl*((tcl+273.15)**4-(tr+273.15)**4)\n",
    "    hc=max(hcf,2.38*abs(tcl-ta)**0.25); c=fcl*hc*(tcl-ta)\n",
    "    return (0.303*math.exp(-0.036*m)+0.028)*(mw-3.05*(5.733-0.007*mw-pa)\n",
    "            -0.42*(mw-58.15)-0.0173*m*(5.867-pa)-0.0014*m*(34-ta)-r-c)"
   ]
  },
  {
   "cell_type": "markdown",
   "id": "f12cff41",
   "metadata": {},
   "source": [
    "## An Example: Calculating PMV"
   ]
  },
  {
   "cell_type": "code",
   "execution_count": null,
   "id": "cc21dd7f",
   "metadata": {},
   "outputs": [],
   "source": [
    "pmv = pmv_iso(\n",
    "    ta=28.0, tr=28.1, v=0.05, rh=62.7, met=1.6, clo=0.47\n",
    ")\n",
    "print(f\"PMV = {pmv:.1f}\")  # ~0 is neutral comfort"
   ]
  }
 ],
 "metadata": {
  "language_info": {
   "name": "python"
  }
 },
 "nbformat": 4,
 "nbformat_minor": 5
}
